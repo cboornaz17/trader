{
 "cells": [
  {
   "cell_type": "code",
   "execution_count": 1,
   "metadata": {},
   "outputs": [],
   "source": [
    "import numpy as np \n",
    "import pandas as pd \n",
    "import re\n",
    "import nltk \n",
    "import matplotlib.pyplot as plt\n",
    "%matplotlib inline\n"
   ]
  },
  {
   "cell_type": "markdown",
   "metadata": {},
   "source": [
    "### Importing the Dataset\n",
    "We will be importing a popular open source dataset of [airlines tweets & their sentiment analysis](https://raw.githubusercontent.com/kolaveridi/kaggle-Twitter-US-Airline-Sentiment-/master).\n",
    "\n",
    "Below are some initial visualizations of the dataset."
   ]
  },
  {
   "cell_type": "code",
   "execution_count": 2,
   "metadata": {},
   "outputs": [],
   "source": [
    "data_source_url = \"https://raw.githubusercontent.com/kolaveridi/kaggle-Twitter-US-Airline-Sentiment-/master/Tweets.csv\"\n",
    "airline_tweets = pd.read_csv(data_source_url)"
   ]
  },
  {
   "cell_type": "code",
   "execution_count": 3,
   "metadata": {},
   "outputs": [
    {
     "data": {
      "text/html": [
       "<div>\n",
       "<style scoped>\n",
       "    .dataframe tbody tr th:only-of-type {\n",
       "        vertical-align: middle;\n",
       "    }\n",
       "\n",
       "    .dataframe tbody tr th {\n",
       "        vertical-align: top;\n",
       "    }\n",
       "\n",
       "    .dataframe thead th {\n",
       "        text-align: right;\n",
       "    }\n",
       "</style>\n",
       "<table border=\"1\" class=\"dataframe\">\n",
       "  <thead>\n",
       "    <tr style=\"text-align: right;\">\n",
       "      <th></th>\n",
       "      <th>tweet_id</th>\n",
       "      <th>airline_sentiment</th>\n",
       "      <th>airline_sentiment_confidence</th>\n",
       "      <th>negativereason</th>\n",
       "      <th>negativereason_confidence</th>\n",
       "      <th>airline</th>\n",
       "      <th>airline_sentiment_gold</th>\n",
       "      <th>name</th>\n",
       "      <th>negativereason_gold</th>\n",
       "      <th>retweet_count</th>\n",
       "      <th>text</th>\n",
       "      <th>tweet_coord</th>\n",
       "      <th>tweet_created</th>\n",
       "      <th>tweet_location</th>\n",
       "      <th>user_timezone</th>\n",
       "    </tr>\n",
       "  </thead>\n",
       "  <tbody>\n",
       "    <tr>\n",
       "      <th>0</th>\n",
       "      <td>570306133677760513</td>\n",
       "      <td>neutral</td>\n",
       "      <td>1.0000</td>\n",
       "      <td>NaN</td>\n",
       "      <td>NaN</td>\n",
       "      <td>Virgin America</td>\n",
       "      <td>NaN</td>\n",
       "      <td>cairdin</td>\n",
       "      <td>NaN</td>\n",
       "      <td>0</td>\n",
       "      <td>@VirginAmerica What @dhepburn said.</td>\n",
       "      <td>NaN</td>\n",
       "      <td>2015-02-24 11:35:52 -0800</td>\n",
       "      <td>NaN</td>\n",
       "      <td>Eastern Time (US &amp; Canada)</td>\n",
       "    </tr>\n",
       "    <tr>\n",
       "      <th>1</th>\n",
       "      <td>570301130888122368</td>\n",
       "      <td>positive</td>\n",
       "      <td>0.3486</td>\n",
       "      <td>NaN</td>\n",
       "      <td>0.0000</td>\n",
       "      <td>Virgin America</td>\n",
       "      <td>NaN</td>\n",
       "      <td>jnardino</td>\n",
       "      <td>NaN</td>\n",
       "      <td>0</td>\n",
       "      <td>@VirginAmerica plus you've added commercials t...</td>\n",
       "      <td>NaN</td>\n",
       "      <td>2015-02-24 11:15:59 -0800</td>\n",
       "      <td>NaN</td>\n",
       "      <td>Pacific Time (US &amp; Canada)</td>\n",
       "    </tr>\n",
       "    <tr>\n",
       "      <th>2</th>\n",
       "      <td>570301083672813571</td>\n",
       "      <td>neutral</td>\n",
       "      <td>0.6837</td>\n",
       "      <td>NaN</td>\n",
       "      <td>NaN</td>\n",
       "      <td>Virgin America</td>\n",
       "      <td>NaN</td>\n",
       "      <td>yvonnalynn</td>\n",
       "      <td>NaN</td>\n",
       "      <td>0</td>\n",
       "      <td>@VirginAmerica I didn't today... Must mean I n...</td>\n",
       "      <td>NaN</td>\n",
       "      <td>2015-02-24 11:15:48 -0800</td>\n",
       "      <td>Lets Play</td>\n",
       "      <td>Central Time (US &amp; Canada)</td>\n",
       "    </tr>\n",
       "    <tr>\n",
       "      <th>3</th>\n",
       "      <td>570301031407624196</td>\n",
       "      <td>negative</td>\n",
       "      <td>1.0000</td>\n",
       "      <td>Bad Flight</td>\n",
       "      <td>0.7033</td>\n",
       "      <td>Virgin America</td>\n",
       "      <td>NaN</td>\n",
       "      <td>jnardino</td>\n",
       "      <td>NaN</td>\n",
       "      <td>0</td>\n",
       "      <td>@VirginAmerica it's really aggressive to blast...</td>\n",
       "      <td>NaN</td>\n",
       "      <td>2015-02-24 11:15:36 -0800</td>\n",
       "      <td>NaN</td>\n",
       "      <td>Pacific Time (US &amp; Canada)</td>\n",
       "    </tr>\n",
       "    <tr>\n",
       "      <th>4</th>\n",
       "      <td>570300817074462722</td>\n",
       "      <td>negative</td>\n",
       "      <td>1.0000</td>\n",
       "      <td>Can't Tell</td>\n",
       "      <td>1.0000</td>\n",
       "      <td>Virgin America</td>\n",
       "      <td>NaN</td>\n",
       "      <td>jnardino</td>\n",
       "      <td>NaN</td>\n",
       "      <td>0</td>\n",
       "      <td>@VirginAmerica and it's a really big bad thing...</td>\n",
       "      <td>NaN</td>\n",
       "      <td>2015-02-24 11:14:45 -0800</td>\n",
       "      <td>NaN</td>\n",
       "      <td>Pacific Time (US &amp; Canada)</td>\n",
       "    </tr>\n",
       "  </tbody>\n",
       "</table>\n",
       "</div>"
      ],
      "text/plain": [
       "             tweet_id airline_sentiment  airline_sentiment_confidence  \\\n",
       "0  570306133677760513           neutral                        1.0000   \n",
       "1  570301130888122368          positive                        0.3486   \n",
       "2  570301083672813571           neutral                        0.6837   \n",
       "3  570301031407624196          negative                        1.0000   \n",
       "4  570300817074462722          negative                        1.0000   \n",
       "\n",
       "  negativereason  negativereason_confidence         airline  \\\n",
       "0            NaN                        NaN  Virgin America   \n",
       "1            NaN                     0.0000  Virgin America   \n",
       "2            NaN                        NaN  Virgin America   \n",
       "3     Bad Flight                     0.7033  Virgin America   \n",
       "4     Can't Tell                     1.0000  Virgin America   \n",
       "\n",
       "  airline_sentiment_gold        name negativereason_gold  retweet_count  \\\n",
       "0                    NaN     cairdin                 NaN              0   \n",
       "1                    NaN    jnardino                 NaN              0   \n",
       "2                    NaN  yvonnalynn                 NaN              0   \n",
       "3                    NaN    jnardino                 NaN              0   \n",
       "4                    NaN    jnardino                 NaN              0   \n",
       "\n",
       "                                                text tweet_coord  \\\n",
       "0                @VirginAmerica What @dhepburn said.         NaN   \n",
       "1  @VirginAmerica plus you've added commercials t...         NaN   \n",
       "2  @VirginAmerica I didn't today... Must mean I n...         NaN   \n",
       "3  @VirginAmerica it's really aggressive to blast...         NaN   \n",
       "4  @VirginAmerica and it's a really big bad thing...         NaN   \n",
       "\n",
       "               tweet_created tweet_location               user_timezone  \n",
       "0  2015-02-24 11:35:52 -0800            NaN  Eastern Time (US & Canada)  \n",
       "1  2015-02-24 11:15:59 -0800            NaN  Pacific Time (US & Canada)  \n",
       "2  2015-02-24 11:15:48 -0800      Lets Play  Central Time (US & Canada)  \n",
       "3  2015-02-24 11:15:36 -0800            NaN  Pacific Time (US & Canada)  \n",
       "4  2015-02-24 11:14:45 -0800            NaN  Pacific Time (US & Canada)  "
      ]
     },
     "execution_count": 3,
     "metadata": {},
     "output_type": "execute_result"
    }
   ],
   "source": [
    "airline_tweets.head()"
   ]
  },
  {
   "cell_type": "markdown",
   "metadata": {},
   "source": [
    "### Initial Analysis\n",
    "Plot some details & stats about the dataset"
   ]
  },
  {
   "cell_type": "code",
   "execution_count": 4,
   "metadata": {},
   "outputs": [
    {
     "name": "stdout",
     "output_type": "stream",
     "text": [
      "6.0\n",
      "4.0\n"
     ]
    }
   ],
   "source": [
    "# Set up matplotlib settings\n",
    "plot_size = plt.rcParams[\"figure.figsize\"] \n",
    "print(plot_size[0]) \n",
    "print(plot_size[1])\n",
    "\n",
    "plot_size[0] = 8\n",
    "plot_size[1] = 6\n",
    "plt.rcParams[\"figure.figsize\"] = plot_size "
   ]
  },
  {
   "cell_type": "code",
   "execution_count": 5,
   "metadata": {},
   "outputs": [
    {
     "data": {
      "text/plain": [
       "<AxesSubplot:ylabel='airline'>"
      ]
     },
     "execution_count": 5,
     "metadata": {},
     "output_type": "execute_result"
    },
    {
     "data": {
      "image/png": "[encoded data removed]",
      "text/plain": [
       "<Figure size 576x432 with 1 Axes>"
      ]
     },
     "metadata": {},
     "output_type": "display_data"
    }
   ],
   "source": [
    "airline_tweets.airline.value_counts().plot(kind='pie', autopct='%1.0f%%')"
   ]
  },
  {
   "cell_type": "code",
   "execution_count": 24,
   "metadata": {},
   "outputs": [
    {
     "name": "stdout",
     "output_type": "stream",
     "text": [
      "14640\n",
      "(14640, 15)\n",
      "<class 'pandas.core.series.Series'>\n"
     ]
    },
    {
     "data": {
      "text/plain": [
       "negative    9178\n",
       "neutral     3099\n",
       "positive    2363\n",
       "Name: airline_sentiment, dtype: int64"
      ]
     },
     "execution_count": 24,
     "metadata": {},
     "output_type": "execute_result"
    }
   ],
   "source": [
    "print(len(airline_tweets))\n",
    "print(airline_tweets.shape)\n",
    "print(type(airline_tweets.airline_sentiment.value_counts()))\n",
    "airline_tweets.airline_sentiment.value_counts()"
   ]
  },
  {
   "cell_type": "code",
   "execution_count": 6,
   "metadata": {
    "scrolled": false
   },
   "outputs": [
    {
     "data": {
      "text/plain": [
       "<AxesSubplot:ylabel='airline_sentiment'>"
      ]
     },
     "execution_count": 6,
     "metadata": {},
     "output_type": "execute_result"
    },
    {
     "data": {
      "image/png": "[encoded data removed]",
      "text/plain": [
       "<Figure size 576x432 with 1 Axes>"
      ]
     },
     "metadata": {},
     "output_type": "display_data"
    }
   ],
   "source": [
    "\n",
    "airline_tweets.airline_sentiment.value_counts().plot(kind='pie', autopct='%1.0f%%', colors=[\"red\", \"yellow\", \"green\"])"
   ]
  },
  {
   "cell_type": "markdown",
   "metadata": {},
   "source": [
    "### Clean the Data\n",
    "Extract the tweets from the above dataframe and perform some basic parsing."
   ]
  },
  {
   "cell_type": "code",
   "execution_count": 7,
   "metadata": {},
   "outputs": [
    {
     "name": "stdout",
     "output_type": "stream",
     "text": [
      "labels sample  ['neutral' 'positive' 'neutral' 'negative' 'negative']\n"
     ]
    }
   ],
   "source": [
    "features = airline_tweets.iloc[:, 10].values\n",
    "labels = airline_tweets.iloc[:, 1].values\n",
    "print(\"labels sample \", labels[:5])"
   ]
  },
  {
   "cell_type": "code",
   "execution_count": 8,
   "metadata": {},
   "outputs": [
    {
     "name": "stdout",
     "output_type": "stream",
     "text": [
      "<class 'list'>\n",
      "(14640,)\n",
      "[' virginamerica what dhepburn said '\n",
      " ' virginamerica plus you ve added commercials to the experience tacky '\n",
      " ' virginamerica didn today must mean need to take another trip '\n",
      " ' virginamerica it really aggressive to blast obnoxious entertainment in your guests faces amp they have little recourse'\n",
      " ' virginamerica and it a really big bad thing about it'\n",
      " ' virginamerica seriously would pay 30 flight for seats that didn have this playing it really the only bad thing about flying va'\n",
      " ' virginamerica yes nearly every time fly vx this ear worm won go away '\n",
      " ' virginamerica really missed prime opportunity for men without hats parody there https co mwpg7grezp'\n",
      " ' virginamerica well didn but now do d'\n",
      " ' virginamerica it was amazing and arrived an hour early you re too good to me ']\n"
     ]
    }
   ],
   "source": [
    "def process_features(features):\n",
    "    processed_features = []\n",
    "\n",
    "    for sentence in range(0, len(features)):\n",
    "        # Account for negative contractions\n",
    "        #processed_feature = re.sub(r'(\\w+)n\\'t', '\\g<1> not', str(features[sentence]))\n",
    "        \n",
    "        # Remove all the special characters\n",
    "        processed_feature = re.sub(r'\\W', ' ', str(features[sentence]))\n",
    "\n",
    "        # Remove all single characters\n",
    "        processed_feature= re.sub(r'\\s+[a-zA-Z]\\s+', ' ', processed_feature)\n",
    "\n",
    "        # Remove single characters from the start\n",
    "        processed_feature = re.sub(r'\\^[a-zA-Z]\\s+', ' ', processed_feature) \n",
    "\n",
    "        # Substituting multiple spaces with single space\n",
    "        processed_feature = re.sub(r'\\s+', ' ', processed_feature, flags=re.I)\n",
    "\n",
    "        # Removing prefixed 'b'\n",
    "        processed_feature = re.sub(r'^b\\s+', '', processed_feature)\n",
    "\n",
    "        # Converting to Lowercase\n",
    "        processed_feature = processed_feature.lower()\n",
    "\n",
    "        processed_features.append(processed_feature)\n",
    "\n",
    "    print(type(processed_features))\n",
    "    processed_features = np.array(processed_features)\n",
    "    print(processed_features.shape)\n",
    "    print(processed_features[:10])\n",
    "    return processed_features\n",
    "\n",
    "\n",
    "processed_features = process_features(features)"
   ]
  },
  {
   "cell_type": "markdown",
   "metadata": {},
   "source": [
    "### Vectorize the text\n",
    "Here we use the TF-IDF method to parse the tweets into vectors of numbers.\n",
    "- [TF-IDF](https://monkeylearn.com/blog/what-is-tf-idf/)\n",
    "- [SciKitLearn TfIdfVectorizer](https://scikit-learn.org/stable/modules/generated/sklearn.feature_extraction.text.TfidfVectorizer.html)"
   ]
  },
  {
   "cell_type": "code",
   "execution_count": 9,
   "metadata": {},
   "outputs": [],
   "source": [
    "from nltk.corpus import stopwords\n",
    "from sklearn.feature_extraction.text import TfidfVectorizer\n",
    "\n",
    "vectorizer = TfidfVectorizer(max_features=2500, min_df=7, max_df=0.8, stop_words=stopwords.words('english'))\n",
    "processed_features = vectorizer.fit_transform(processed_features).toarray()"
   ]
  },
  {
   "cell_type": "markdown",
   "metadata": {},
   "source": [
    "### Training the Model\n",
    "Here we use the same airline tweet dataset above to train a model for tweet sentiment analysis."
   ]
  },
  {
   "cell_type": "code",
   "execution_count": 10,
   "metadata": {},
   "outputs": [
    {
     "name": "stdout",
     "output_type": "stream",
     "text": [
      "splitting into test set...\n"
     ]
    }
   ],
   "source": [
    "from sklearn.model_selection import train_test_split\n",
    "\n",
    "print('splitting into test set...')\n",
    "\n",
    "# test_size .2 means we use 80% of the dataset to train the model\n",
    "# and test it on the other 20%\n",
    "X_train, X_test, y_train, y_test = train_test_split(processed_features, labels, test_size=0.2, random_state=0)"
   ]
  },
  {
   "cell_type": "code",
   "execution_count": 11,
   "metadata": {},
   "outputs": [
    {
     "name": "stdout",
     "output_type": "stream",
     "text": [
      "running randomForestClassifier\n"
     ]
    },
    {
     "data": {
      "text/plain": [
       "RandomForestClassifier(n_estimators=200, random_state=0)"
      ]
     },
     "execution_count": 11,
     "metadata": {},
     "output_type": "execute_result"
    }
   ],
   "source": [
    "from sklearn.ensemble import RandomForestClassifier\n",
    "\n",
    "print('running randomForestClassifier')\n",
    "text_classifier = RandomForestClassifier(n_estimators=200, random_state=0)\n",
    "text_classifier.fit(X_train, y_train)"
   ]
  },
  {
   "cell_type": "code",
   "execution_count": 12,
   "metadata": {},
   "outputs": [
    {
     "name": "stdout",
     "output_type": "stream",
     "text": [
      "(11712, 2301)\n",
      "(2928, 2301)\n"
     ]
    }
   ],
   "source": [
    "print(X_train.shape)\n",
    "print(X_test.shape)\n",
    "predictions = text_classifier.predict(X_test)"
   ]
  },
  {
   "cell_type": "code",
   "execution_count": 13,
   "metadata": {},
   "outputs": [
    {
     "name": "stdout",
     "output_type": "stream",
     "text": [
      "confusion matrix\n",
      "\n",
      "[[1723  108   39]\n",
      " [ 326  248   40]\n",
      " [ 132   58  254]]\n",
      "\n",
      "classification report\n",
      "              precision    recall  f1-score   support\n",
      "\n",
      "    negative       0.79      0.92      0.85      1870\n",
      "     neutral       0.60      0.40      0.48       614\n",
      "    positive       0.76      0.57      0.65       444\n",
      "\n",
      "    accuracy                           0.76      2928\n",
      "   macro avg       0.72      0.63      0.66      2928\n",
      "weighted avg       0.75      0.76      0.74      2928\n",
      "\n",
      "\n",
      "accuracy score\n",
      "0.7599043715846995\n"
     ]
    }
   ],
   "source": [
    "from sklearn.metrics import classification_report, confusion_matrix, accuracy_score\n",
    "\n",
    "def printResults(y_test, predictions):\n",
    "    print('confusion matrix\\n')\n",
    "    print(confusion_matrix(y_test,predictions))\n",
    "    \n",
    "    print('\\nclassification report')\n",
    "    print(classification_report(y_test,predictions))\n",
    "    \n",
    "    print('\\naccuracy score')\n",
    "    print(accuracy_score(y_test, predictions))\n",
    "    \n",
    "printResults(y_test, predictions)"
   ]
  },
  {
   "cell_type": "markdown",
   "metadata": {},
   "source": [
    "### Todos\n",
    "1. Move all logic into functions so we can test passing in our own data\n",
    "1. Improve docs\n",
    "1. Multithread training?"
   ]
  },
  {
   "cell_type": "markdown",
   "metadata": {},
   "source": [
    "### Importing the Tweets to test\n",
    "Here we use the Twitter package to get sample tweets"
   ]
  },
  {
   "cell_type": "code",
   "execution_count": 14,
   "metadata": {},
   "outputs": [
    {
     "name": "stdout",
     "output_type": "stream",
     "text": [
      "100\n"
     ]
    }
   ],
   "source": [
    "from trader import Twitter\n",
    "import os\n",
    "\n",
    "bearer=os.environ.get('BEARER_TOKEN')\n",
    "twitter = Twitter(bearer=bearer)\n",
    "\n",
    "query = \"GME\"\n",
    "maximum = 100\n",
    "\n",
    "response = twitter.search_tweets(query, maximum).json()['data']\n",
    "print(len(response))"
   ]
  },
  {
   "cell_type": "code",
   "execution_count": 15,
   "metadata": {},
   "outputs": [
    {
     "name": "stdout",
     "output_type": "stream",
     "text": [
      "len tweets:  [\"RT @DiMartinoBooth: “While the 'value shorts' that were in GME earlier have been squeezed, most of the borrowed shares that were returned o…\"\n",
      " 'RT @doedeclare: FUCK THIS IM OUT\\n\\nI SAW WSB SAY THAT DOGE WAS BETTER THAN GME AND GOING TO $1. I SPENT MY WHOLE PAYCHECK AND IT WENT DOWN 8…'\n",
      " 'RT @doedeclare: FUCK THIS IM OUT\\n\\nI SAW WSB SAY THAT DOGE WAS BETTER THAN GME AND GOING TO $1. I SPENT MY WHOLE PAYCHECK AND IT WENT DOWN 8…'\n",
      " 'RT @InvestorTrip: Why does holding $GME $AMC increase the share price?\\n\\nSupply and demand. Hedge funds must close their short positions by…'\n",
      " 'RT @WSBToken: #wallstreetbets @WSB Token is now LIVE on #TRON\\n\\nTRADE BELOW - \\n\\nhttps://t.co/ky85NfvHqH\\n\\nMarket runs 24/7, no trading halts,…']\n",
      "<class 'list'>\n",
      "(100,)\n",
      "['rt dimartinobooth while the value shorts that were in gme earlier have been squeezed most of the borrowed shares that were returned '\n",
      " 'rt doedeclare fuck this im out saw wsb say that doge was better than gme and going to 1 spent my whole paycheck and it went down 8 '\n",
      " 'rt doedeclare fuck this im out saw wsb say that doge was better than gme and going to 1 spent my whole paycheck and it went down 8 '\n",
      " 'rt investortrip why does holding gme amc increase the share price supply and demand hedge funds must close their short positions by '\n",
      " 'rt wsbtoken wallstreetbets wsb token is now live on tron trade below https co ky85nfvhqh market runs 24 7 no trading halts '\n",
      " 'don let gme take all the attention stonks outside the small caps where moving too tune in to this week in stocks with tradernickybat https co ho3qnn07vz'\n",
      " 'rt besni121 not sure if you ve seen this amc gme nakd nok sndl ipoe cciv https co 1exyornv2t'\n",
      " ' stockmarketnerd but have you actually read the gme gamma squeeze thesis it pretty air tight and gme actually has chance to stay above 400 long term with the right management plays '\n",
      " 'rt cunny4breakfast well the sec won let me be or let me be free to trade amc they tried to shut me down on cnbc but it feels so empty '\n",
      " 'rt pathtomanliness gme amc https co jf7o0ndpnc']\n",
      "100\n",
      "(100, 2301)\n"
     ]
    }
   ],
   "source": [
    "vectorized_tweets = np.vectorize(lambda obj: obj['text'])\n",
    "tweets = vectorized_tweets(np.array(response))\n",
    "\n",
    "print('len tweets: ', tweets[:5])\n",
    "# Parse the tweets to remove extra characters\n",
    "processed_features = process_features(tweets)\n",
    "print(len(processed_features))\n",
    "\n",
    "\n",
    "feature_names = vectorizer.get_feature_names()\n",
    "\n",
    "# Vectorize the parsed tweets\n",
    "stock_vectorizer = TfidfVectorizer(max_features=2500, min_df=.05, max_df=0.9, vocabulary=feature_names, stop_words=stopwords.words('english'))\n",
    "processed_features = stock_vectorizer.fit_transform(processed_features).toarray()\n",
    "print(processed_features.shape)\n",
    "\n",
    "predictions = text_classifier.predict(processed_features)"
   ]
  },
  {
   "cell_type": "code",
   "execution_count": 16,
   "metadata": {},
   "outputs": [
    {
     "name": "stdout",
     "output_type": "stream",
     "text": [
      "(100,)\n",
      "(100,)\n"
     ]
    }
   ],
   "source": [
    "print(tweets.shape)\n",
    "print(predictions.shape)"
   ]
  },
  {
   "cell_type": "code",
   "execution_count": 18,
   "metadata": {},
   "outputs": [
    {
     "name": "stdout",
     "output_type": "stream",
     "text": [
      "(100, 1)\n",
      "(100, 1)\n",
      "(100, 2)\n",
      "[[\"RT @DiMartinoBooth: “While the 'value shorts' that were in GME earlier have been squeezed, most of the borrowed shares that were returned o…\"\n",
      "  'negative']\n",
      " ['RT @doedeclare: FUCK THIS IM OUT\\n\\nI SAW WSB SAY THAT DOGE WAS BETTER THAN GME AND GOING TO $1. I SPENT MY WHOLE PAYCHECK AND IT WENT DOWN 8…'\n",
      "  'negative']\n",
      " ['RT @doedeclare: FUCK THIS IM OUT\\n\\nI SAW WSB SAY THAT DOGE WAS BETTER THAN GME AND GOING TO $1. I SPENT MY WHOLE PAYCHECK AND IT WENT DOWN 8…'\n",
      "  'negative']\n",
      " ['RT @InvestorTrip: Why does holding $GME $AMC increase the share price?\\n\\nSupply and demand. Hedge funds must close their short positions by…'\n",
      "  'negative']\n",
      " ['RT @WSBToken: #wallstreetbets @WSB Token is now LIVE on #TRON\\n\\nTRADE BELOW - \\n\\nhttps://t.co/ky85NfvHqH\\n\\nMarket runs 24/7, no trading halts,…'\n",
      "  'neutral']\n",
      " ['Don\\'t let GME take all the attention, STONKS outside the small caps where moving too! Tune in to \"This Week in Stocks\" with @TraderNickyBAT. https://t.co/HO3qnn07vz'\n",
      "  'negative']\n",
      " [\"RT @Besni121: Not sure if you've seen this? 🤣🤣🤣💀\\n\\n$AMC $GME $NAKD $NOK $SNDL $IPOE $CCIV https://t.co/1exYoRnV2T\"\n",
      "  'neutral']\n",
      " ['@StockMarketNerd But have you actually read the $GME gamma squeeze thesis? It’s pretty air tight and $GME actually has a chance to stay above $400 long term with the right management plays.'\n",
      "  'negative']\n",
      " [\"RT @cunny4breakfast: WELL THE SEC WON'T LET ME BE OR LET ME BE FREE TO TRADE AMC THEY TRIED TO SHUT ME DOWN ON CNBC BUT IT FEELS SO EMPTY W…\"\n",
      "  'negative']\n",
      " ['RT @PathToManliness: $GME $AMC https://t.co/jf7o0ndPNc' 'neutral']\n",
      " ['RT @Dogeinvesting: Hope you bought in at the dip👀📈🚀 $doge #doge #dogecointoadollar #dogearmy #Dogecoinarmy #tothemoon #elonmusk $amc $gme $…'\n",
      "  'negative']\n",
      " ['@AdamSinger @bitcoin4bernie You’re right and they are driving GME and meme stocks. They literally call themselves degenerates. It’s also a bit of a cult. Check Tesla’s price for the membership'\n",
      "  'negative']\n",
      " [\"RT @NicFN_: For every like this gets I'll put $200 into Dogecoin... I'm scared 😬\\n-\\n#DOGE #dogecoin #Dogecoinarmy #dogecointo1dollar #Dogeco…\"\n",
      "  'negative']\n",
      " [\"This sums up what is happening in today's market frenzy @AMCTheatres @GameStop @elonmusk #AMC #GME \\n\\nhttps://t.co/NsDJE0mAHH\"\n",
      "  'neutral']\n",
      " [\"@GoSavageGIRLs Lool at your tweets thot 😭, having to bitch about not being able to average down on a GME bag instead of learning how the game works lmfao. \\n\\nQuick question. Why didn't you bother buying GME when it was at $15 just a couple months ago but now buy it when its up 300%?\"\n",
      "  'negative']\n",
      " ['@ParikPatelCFA The Most Epic Short Squeeze In History Of FINANCE https://t.co/mK5sGIkVks via @YouTube\\n\\u2028\\n#GME #SLV #NOK #BB #AMC #WSBgang #wsbets #wsbmod @wallstreetbets @wallstmemes @wallstreetbets_ @WSBChairman @WSBgod Guys please share the video this is about this week! Also subscribe'\n",
      "  'neutral']\n",
      " ['RT @MrBrokeInvestor: $GME  $AMC $KOSS $DOGE \\n\\nBroke investor Alert of the day \\n\\n📉 Predicted to fall from $300 to $90 \\n\\nMid Monday 😩 \\n\\nDon’t…'\n",
      "  'negative']\n",
      " ['@CryptoCobain It is rational now as this keeps happening all the time so smart people start to look for the \"mistake\" stocks.\\n\\nSame for $GME (australian nickel company) and signal...'\n",
      "  'negative']\n",
      " ['RT @RiskReversal: oh and @GuyAdami is in too!! We get into the #wallstreetbets, @reddit $GME thingy with @dmoses34 &amp; @SRuhle. We get it, yo…'\n",
      "  'negative']\n",
      " ['RT @PathToManliness: $GME $AMC https://t.co/jf7o0ndPNc' 'neutral']\n",
      " [\"RT @cunny4breakfast: WELL THE SEC WON'T LET ME BE OR LET ME BE FREE TO TRADE AMC THEY TRIED TO SHUT ME DOWN ON CNBC BUT IT FEELS SO EMPTY W…\"\n",
      "  'negative']\n",
      " ['RT @WSBToken: #wallstreetbets @WSB Token is now LIVE on #TRON\\n\\nTRADE BELOW - \\n\\nhttps://t.co/ky85NfvHqH\\n\\nMarket runs 24/7, no trading halts,…'\n",
      "  'neutral']\n",
      " ['RT @hiro_hive: #GMEstock battle reminds me of how the decentralized community #Hive tookover the blockchain from the dictator @justinsuntro…'\n",
      "  'negative']\n",
      " ['@TheDemocrats @POTUS \"The government check cleared? Good, what you\\'re gonna wanna do now is look up $DOGE, $GME, and $AMC.\" https://t.co/w5VRRpvgqv'\n",
      "  'positive']\n",
      " ['RT @CassandraRules: I like this one $GME https://t.co/Wy8RHnE6Zg'\n",
      "  'negative']\n",
      " ['RT @disclosetv: Redditors made it to a Times Square billboard. “$GME GO BRRR,” blared a digital ad on the corner of 54th and Broadway in Ma…'\n",
      "  'negative']\n",
      " ['@J_Leap @Fidelity It’s going under the radar I called they were only limiting margin on 3 stocks at the time amc gme and klov'\n",
      "  'negative']\n",
      " ['@TheLastDegree \"Silver Short Squeeze\" Google Trend just passed @GameStop \\nabout three hours ago. 🚀🌙\\n\\n$SLV $SIL $SILJ $AG $HL #silversqueeze #Silver $GME $AMC #WSB #WallStreetBets\\n\\nhttps://t.co/JirukVWR8q'\n",
      "  'negative']\n",
      " ['RT @PathToManliness: $GME $AMC https://t.co/jf7o0ndPNc' 'neutral']\n",
      " ['Someone has scheduled a limit sell of $GME for $10,000 on @SoFi'\n",
      "  'negative']\n",
      " ['Plz rt\\n#WallStreetBets #WSB #NOK #AMC #AAL #AAPL #GME #YOLO #BTC #TSLA #Doge #DogeCoin #ETH #Crypto #CryptoCurrency #DOGECoinToJupiter #DOGETo100000USD #DOGECoinTo100000 #DogeCoinTo100000 #DOGETo100000 #Blockchain #Plaid @wsbchairman @reddit #WhyNot https://t.co/T3rJ4tl0Fz'\n",
      "  'neutral']\n",
      " ['Sbaglio o non c’è nessuna testata giornalistica che riportato la notizia delle azioni di #GME ? Io ho soltanto un articolo da parte di @ilpost'\n",
      "  'negative']\n",
      " ['RT @WSBToken: #wallstreetbets @WSB Token is now LIVE on #TRON\\n\\nTRADE BELOW - \\n\\nhttps://t.co/ky85NfvHqH\\n\\nMarket runs 24/7, no trading halts,…'\n",
      "  'neutral']\n",
      " ['RT @SRuhle: THREAD on Robinhood/Reddit/GME: CONGRESS is calling for action, but no one has clearly articulated what they actually want. \\n\\nW…'\n",
      "  'negative']\n",
      " ['RT @VixBuyer: WallStreetBets patrons have written $GME 💎🖐️🚀 at the Fearless Girl sculpture outside the New York Stock Exchange\\n\\n(via @Andre…'\n",
      "  'negative']\n",
      " ['RT @PathToManliness: $GME $AMC https://t.co/jf7o0ndPNc' 'neutral']\n",
      " ['@SpacTraderinTra Bro you sound like a boomer lmao. You adapt or you die. It’s not ok if people purse gme/amc then everyones investments are in trouble. That’s the exact thing that is wrong with the market. These people have entirely too much power in what’s suppose to be a free market.'\n",
      "  'negative']\n",
      " ['RT @_josewever_: 2. Por ende, los hedge funds (fondos de inversión también conocidos como fondos de cobertura) vieron esto como una oportun…'\n",
      "  'negative']\n",
      " ['RT @Syndicate: $GME 🚀🌒🚨 https://t.co/MEFZLYYvUp' 'neutral']\n",
      " ['Ape need Ape \\n\\n$gme $amc $nakd $nok $sndl https://t.co/b31qKPcXn7'\n",
      "  'neutral']\n",
      " ['RT @EventHorizon821: $GME https://t.co/2iMtqiw5b8' 'neutral']\n",
      " [\"RT @RobertPLewis: Want an even bigger RedPill than market manipulation on behalf of hedge funds? \\n\\nWithin a week they'll likely know every…\"\n",
      "  'negative']\n",
      " ['RT @WSBToken: #wallstreetbets @WSB Token is now LIVE on #TRON\\n\\nTRADE BELOW - \\n\\nhttps://t.co/ky85NfvHqH\\n\\nMarket runs 24/7, no trading halts,…'\n",
      "  'neutral']\n",
      " ['GME GameStop Uranus in Taurus square Saturn in Aquarius - Astrology – Forum https://t.co/0VHlkHAsDX Discuss! https://t.co/vzyFty5G90'\n",
      "  'neutral']\n",
      " ['RT @DirtyTesla: People buying billboards in Times Square $GME https://t.co/IvZXrexE4W'\n",
      "  'negative']\n",
      " ['@compound248 So basically you are saying that GME cannot go any higher because the brokers and their clearing houses can’t afford to let it to. Btw - thx for ur insight, do u have an article or something where I can read more on this?'\n",
      "  'negative']\n",
      " ['RT @dominiquetaegon: https://t.co/WQD0ZsUHtn Is NAKD the next GME &amp; AMC? Or is this just a pipe dream😬'\n",
      "  'neutral']\n",
      " ['@WSBprime Plz rt\\n#WallStreetBets #WSB #NOK #AMC #AAL #AAPL #GME #YOLO #BTC #TSLA #Doge #DogeCoin #ETH #Crypto #CryptoCurrency #DOGECoinToJupiter #DOGETo100000USD #DOGECoinTo100000 #DogeCoinTo100000 #DOGETo100000 #Blockchain #Plaid @wsbchairman @reddit #WhyNot'\n",
      "  'negative']\n",
      " ['RT @BTC_Archive: “After GME I finally understood Bitcoin”\\n\\n#Bitcoin #BTC \\n#gamestonk #WallStreetBets https://t.co/d3dkmWdEWQ'\n",
      "  'neutral']\n",
      " [\"RT @cunny4breakfast: WELL THE SEC WON'T LET ME BE OR LET ME BE FREE TO TRADE AMC THEY TRIED TO SHUT ME DOWN ON CNBC BUT IT FEELS SO EMPTY W…\"\n",
      "  'negative']\n",
      " ['@Ryzan55 @steven_feeney @WSJokers @biancoresearch Blind people criticizing the morality of colors. Smh. \\n#DiamondHands #WallStreetExposed #WallStreet #melvincapital #Citadel #citadelinvestments #WeLikeTheStock #anticorruption #RobinHood #GMEstock #GME #GameStop #gamestonk #wsb'\n",
      "  'negative']\n",
      " ['@JstInvestments The Most Epic Short Squeeze In History Of FINANCE https://t.co/mK5sGIkVks via @YouTube\\n\\u2028\\n#GME #SLV #NOK #BB #AMC #WSBgang #wsbets #wsbmod @wallstreetbets @wallstmemes @wallstreetbets_ @WSBChairman @WSBgod Guys please share the video this is about this week! Also subscribe'\n",
      "  'neutral']\n",
      " [\"RT @OpDeathEaters: Pssst. It's always been rigged. #HoldTheLine $amc $gme $nok #BindingChaos https://t.co/hcnDD2vbJd\"\n",
      "  'neutral']\n",
      " ['RT @PathToManliness: $GME $AMC https://t.co/jf7o0ndPNc' 'neutral']\n",
      " ['RT @BusinessFamous: If you missed the big move in $GME last week\\n\\nYou can always invest in GME:\\n\\nG - General Dynamics $GD\\nM - McDonald’s $M…'\n",
      "  'negative']\n",
      " ['RT @hiro_hive: #GMEstock battle reminds me of how the decentralized community #Hive tookover the blockchain from the dictator @justinsuntro…'\n",
      "  'negative']\n",
      " ['RT @KoroushAK: Robinhood suspended $AMC and $GME stock because regular people were making too much money.\\n\\nUnacceptable.\\n\\nSpent the last 10…'\n",
      "  'negative']\n",
      " [\"RT @cunny4breakfast: WELL THE SEC WON'T LET ME BE OR LET ME BE FREE TO TRADE AMC THEY TRIED TO SHUT ME DOWN ON CNBC BUT IT FEELS SO EMPTY W…\"\n",
      "  'negative']\n",
      " ['RT @PathToManliness: $GME $AMC https://t.co/jf7o0ndPNc' 'neutral']\n",
      " ['RT @VixBuyer: WallStreetBets patrons have written $GME 💎🖐️🚀 at the Fearless Girl sculpture outside the New York Stock Exchange\\n\\n(via @Andre…'\n",
      "  'negative']\n",
      " ['RT @PJ_Matlock: $GME is likely going to $1000 and there is nothing you can do about it @RobinhoodApp'\n",
      "  'negative']\n",
      " ['RT @WSBToken: #wallstreetbets @WSB Token is now LIVE on #TRON\\n\\nTRADE BELOW - \\n\\nhttps://t.co/ky85NfvHqH\\n\\nMarket runs 24/7, no trading halts,…'\n",
      "  'neutral']\n",
      " [\"@joelmn12 @duke_kyss @rainofcali @elonmusk 140% is reckless, Melvin Capital were wrong and a lot of people like the stock now they pay the price. Should rules change as well?\\n\\nPeople downloading games have changed the business model for GME, I hope they can execute a turnaround and wouldn't have a position either way.\"\n",
      "  'negative']\n",
      " ['RT @BittrexGlobal: GameStop (GME) is now available on Bittrex Global!\\nYou can buy, sell, and trade GME 24/7!\\n\\nhttps://t.co/jAfQD0fdI9\\n\\n#Cry…'\n",
      "  'neutral']\n",
      " [\"RT @BloombergTV: https://t.co/siWD3KtGcT's Rod Alzmann has seen value in $GME since '17, before all the mania hit the stock. Hear how he st…\"\n",
      "  'negative']\n",
      " [\"@jscherniack Lotta calls at 25.50 too. If it follows the same pattern as GME &amp; AMC as they go ITM they'll probably load up on the OTM calls at higher tiers and try to force a gamma squeeze again.\"\n",
      "  'negative']\n",
      " ['#Reddit Sparks #WallStreet Crisis as Traders Buy #GameStop and #AMC. 🎮 $GME $AMC https://t.co/oNX4SjqXRm'\n",
      "  'neutral']\n",
      " ['Mainstream normie every day Joe and Jane type of people talking about $GME now.'\n",
      "  'negative']\n",
      " ['RT @PathToManliness: $GME $AMC https://t.co/jf7o0ndPNc' 'neutral']\n",
      " ['RT @PathToManliness: $GME $AMC https://t.co/jf7o0ndPNc' 'neutral']\n",
      " ['RT @Right_NotLeft: Wall Street is under fire by both Democrats &amp; Republicans because they illegally halted trading when they were LOSING.…'\n",
      "  'negative']\n",
      " ['RT @annmarie: omg, there\\'s now a billboard \"$GME GO BRRR\"\\nhttps://t.co/VNj1UUUxWT'\n",
      "  'neutral']\n",
      " ['RT @WSBToken: #wallstreetbets @WSB Token is now LIVE on #TRON\\n\\nTRADE BELOW - \\n\\nhttps://t.co/ky85NfvHqH\\n\\nMarket runs 24/7, no trading halts,…'\n",
      "  'neutral']\n",
      " ['RT @MJINVESTOR: $RKT ROCKET 🚀 CEO “THIS IS NOT A STOCK YOU WANT TO BE SHORT IN” 40% + SHORT Interest, SUPER BOWL Promo $AMC $GME $NOK $BB $…'\n",
      "  'negative']\n",
      " ['#HedgeFunds Get it? \\n#GME #AMC #BB #DOGE https://t.co/iaOpEDblVL'\n",
      "  'negative']\n",
      " [\"RT @toxic: Step 0: Citadel pays Robinhood for order flow. Citadel gets to see RH's orders a few milliseconds before they're filled. Citadel…\"\n",
      "  'negative']\n",
      " ['$FUBO dont forget team, we have institutional whales behind us, and ER expected in one to two weeks, more catalysts than any other of the big runners $GME $AMC'\n",
      "  'negative']\n",
      " [\"Well...@NZXT could have gone all in on GME and made some money this week but instead they decided to go all in on a PR battle with @GamersNexus over their case being a legitimate fire hazard and I gotta say that's a bold strategy. https://t.co/KdY56YvQND\"\n",
      "  'negative']\n",
      " ['$gme $amc https://t.co/33B2NkesuU' 'neutral']\n",
      " ['RT @dudeman_03: If y’all wanted to know why the WSB boys are holding and not selling for a profit. $GME #wallstreetsbets #GMEstock . Nothin…'\n",
      "  'negative']\n",
      " ['@strassa2 @RyanFeePoker @BrettRichey @haralabob @chamath @DavidSacks citadel decides how much capital RH needs, and put money into Melvin that is short, how is that not COI\\nno one believes Melvin is out, volume was not close to their when they claimed it\\njust a coincidence day GME went to 300 discord got banned for hate speech?'\n",
      "  'negative']\n",
      " ['RT @CryptoNostra: 🚨 $GME VS Institutions\\n@cctip_io airdrop 0.01 ETH 9999\\n—————————————————\\n\\nGamestop we are here for you‼️\\n#Crypto communit…'\n",
      "  'negative']\n",
      " ['RT @PathToManliness: $GME $AMC https://t.co/jf7o0ndPNc' 'neutral']\n",
      " ['RT @saltyoldpirate: @disclosetv No only in NY, but all over \\n$GME 🚀🚀 https://t.co/sH0zHHDg9W'\n",
      "  'neutral']\n",
      " ['@100trillionUSD The Most Epic Short Squeeze In History Of FINANCE https://t.co/mK5sGIkVks via @YouTube\\n\\u2028\\n#GME #SLV #NOK #BB #AMC #WSBgang #wsbets #wsbmod @wallstreetbets @wallstmemes @wallstreetbets_ @WSBChairman @WSBgod Guys please share the video this is about this week! Also subscribe'\n",
      "  'neutral']\n",
      " ['RT @WSBToken: #wallstreetbets @WSB Token is now LIVE on #TRON\\n\\nTRADE BELOW - \\n\\nhttps://t.co/ky85NfvHqH\\n\\nMarket runs 24/7, no trading halts,…'\n",
      "  'neutral']\n",
      " ['RT @allstreetbets: Like this post if you love #Dogecoin, $AMC or $GME.'\n",
      "  'positive']\n",
      " ['RT @chamath: For those who are interested, here is the post in r/wsb drawing up the play to gamma squeeze $GME and send the HFs to the hosp…'\n",
      "  'negative']\n",
      " ['@KarlSmithCFA Wow this is incredible!!! $GME to the moon!!' 'negative']\n",
      " ['RT @hiro_hive: #GMEstock battle reminds me of how the decentralized community #Hive tookover the blockchain from the dictator @justinsuntro…'\n",
      "  'negative']\n",
      " ['RT @PathToManliness: $GME $AMC https://t.co/jf7o0ndPNc' 'neutral']\n",
      " ['RT @TobiasTGallas: Join the movement. Monday morning. 9:30 am. $DOGE $AMC $GME $NOK $NAKD https://t.co/xhtWYFMHWX'\n",
      "  'neutral']\n",
      " ['RT @PathToManliness: $GME $AMC https://t.co/jf7o0ndPNc' 'neutral']\n",
      " ['RT @SRuhle: THREAD on Robinhood/Reddit/GME: CONGRESS is calling for action, but no one has clearly articulated what they actually want. \\n\\nW…'\n",
      "  'negative']\n",
      " ['Riddle me this, brand new Titter account claiming to be successful trader is trash talking shares hedge funds try to short, apparently has no time for Twitter but spends time trash talking #GME and #AMC - no better reason to hold!'\n",
      "  'negative']\n",
      " ['RT @WSBToken: #wallstreetbets @WSB Token is now LIVE on #TRON\\n\\nTRADE BELOW - \\n\\nhttps://t.co/ky85NfvHqH\\n\\nMarket runs 24/7, no trading halts,…'\n",
      "  'neutral']\n",
      " ['RT @Utoday_en: Investors are worried that @elonmusk can manipulate markets with his tweets, they want regulators to step in. #Bitcoin $BTC…'\n",
      "  'negative']\n",
      " [\"RT @cunny4breakfast: WELL THE SEC WON'T LET ME BE OR LET ME BE FREE TO TRADE AMC THEY TRIED TO SHUT ME DOWN ON CNBC BUT IT FEELS SO EMPTY W…\"\n",
      "  'negative']\n",
      " ['RT @ShakeDrizzle: #DOGE is a pump and dump coordinated by a few smart traders that knew they could capitalize off of the GME retail investo…'\n",
      "  'negative']\n",
      " ['RT @WSBDaddy: $GME $AMC $NOK $BTC $DOGE https://t.co/i9wQMpBBbG'\n",
      "  'neutral']]\n"
     ]
    }
   ],
   "source": [
    "tweets = tweets.reshape((100,1))\n",
    "predictions = predictions.reshape((100, 1))\n",
    "print(tweets.shape)\n",
    "print(predictions.shape)\n",
    "\n",
    "total = np.concatenate((tweets, predictions), axis=1)\n",
    "print(total.shape)\n",
    "\n",
    "print(total)\n"
   ]
  },
  {
   "cell_type": "code",
   "execution_count": 27,
   "metadata": {},
   "outputs": [
    {
     "data": {
      "text/plain": [
       "<AxesSubplot:ylabel='None'>"
      ]
     },
     "execution_count": 27,
     "metadata": {},
     "output_type": "execute_result"
    },
    {
     "data": {
      "image/png": "[encoded data removed]",
      "text/plain": [
       "<Figure size 576x432 with 1 Axes>"
      ]
     },
     "metadata": {},
     "output_type": "display_data"
    }
   ],
   "source": [
    "predictions_df = pd.DataFrame(predictions)\n",
    "predictions_df.value_counts().plot(kind='pie', autopct='%1.0f%%', colors=[\"red\", \"yellow\", \"green\"])"
   ]
  },
  {
   "cell_type": "code",
   "execution_count": null,
   "metadata": {},
   "outputs": [],
   "source": []
  }
 ],
 "metadata": {
  "kernelspec": {
   "display_name": "Python 3",
   "language": "python",
   "name": "python3"
  },
  "language_info": {
   "codemirror_mode": {
    "name": "ipython",
    "version": 3
   },
   "file_extension": ".py",
   "mimetype": "text/x-python",
   "name": "python",
   "nbconvert_exporter": "python",
   "pygments_lexer": "ipython3",
   "version": "3.9.1"
  }
 },
 "nbformat": 4,
 "nbformat_minor": 4
}
